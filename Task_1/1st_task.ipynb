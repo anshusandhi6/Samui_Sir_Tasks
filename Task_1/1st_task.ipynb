{
  "nbformat": 4,
  "nbformat_minor": 0,
  "metadata": {
    "colab": {
      "name": "1st task.ipynb",
      "provenance": [],
      "collapsed_sections": []
    },
    "kernelspec": {
      "name": "python3",
      "display_name": "Python 3"
    },
    "language_info": {
      "name": "python"
    }
  },
  "cells": [
    {
      "cell_type": "code",
      "metadata": {
        "colab": {
          "base_uri": "https://localhost:8080/"
        },
        "id": "BDjp1Le__8cN",
        "outputId": "8a609f16-a03f-40bc-a1d4-3ec571696077"
      },
      "source": [
        "# pip installing the required packages\n",
        "!pip install SpeechRecognition\n",
        "!pip install gTTS"
      ],
      "execution_count": null,
      "outputs": [
        {
          "output_type": "stream",
          "text": [
            "Requirement already satisfied: SpeechRecognition in /usr/local/lib/python3.7/dist-packages (3.8.1)\n",
            "Requirement already satisfied: gTTS in /usr/local/lib/python3.7/dist-packages (2.2.3)\n",
            "Requirement already satisfied: click in /usr/local/lib/python3.7/dist-packages (from gTTS) (7.1.2)\n",
            "Requirement already satisfied: six in /usr/local/lib/python3.7/dist-packages (from gTTS) (1.15.0)\n",
            "Requirement already satisfied: requests in /usr/local/lib/python3.7/dist-packages (from gTTS) (2.23.0)\n",
            "Requirement already satisfied: chardet<4,>=3.0.2 in /usr/local/lib/python3.7/dist-packages (from requests->gTTS) (3.0.4)\n",
            "Requirement already satisfied: certifi>=2017.4.17 in /usr/local/lib/python3.7/dist-packages (from requests->gTTS) (2021.5.30)\n",
            "Requirement already satisfied: urllib3!=1.25.0,!=1.25.1,<1.26,>=1.21.1 in /usr/local/lib/python3.7/dist-packages (from requests->gTTS) (1.24.3)\n",
            "Requirement already satisfied: idna<3,>=2.5 in /usr/local/lib/python3.7/dist-packages (from requests->gTTS) (2.10)\n"
          ],
          "name": "stdout"
        }
      ]
    },
    {
      "cell_type": "code",
      "metadata": {
        "id": "yM83Ktq0AaEz"
      },
      "source": [
        "# importing the speech recognition library \n",
        "import speech_recognition as sr\n",
        "r=sr.Recognizer()\n"
      ],
      "execution_count": null,
      "outputs": []
    },
    {
      "cell_type": "code",
      "metadata": {
        "colab": {
          "base_uri": "https://localhost:8080/"
        },
        "id": "PC8Our7lAc2f",
        "outputId": "01166fa1-6b6d-4f08-aae2-de88d5eb54fa"
      },
      "source": [
        "from google.colab import drive\n",
        "drive.mount('/content/drive')"
      ],
      "execution_count": null,
      "outputs": [
        {
          "output_type": "stream",
          "text": [
            "Drive already mounted at /content/drive; to attempt to forcibly remount, call drive.mount(\"/content/drive\", force_remount=True).\n"
          ],
          "name": "stdout"
        }
      ]
    },
    {
      "cell_type": "code",
      "metadata": {
        "id": "JF9hq14qAgOU"
      },
      "source": [
        "with open('/content/drive/MyDrive/samui sir/84/121123/84-121123.trans.txt') as f:\n",
        "    lines = f.readlines()"
      ],
      "execution_count": null,
      "outputs": []
    },
    {
      "cell_type": "code",
      "metadata": {
        "colab": {
          "base_uri": "https://localhost:8080/"
        },
        "id": "ptGL4Vd8BD7g",
        "outputId": "f1451105-0e70-4bd9-e6ee-bf801031a6d0"
      },
      "source": [
        "# printining the lines in each file\n",
        "lines "
      ],
      "execution_count": null,
      "outputs": [
        {
          "output_type": "execute_result",
          "data": {
            "text/plain": [
              "['84-121123-0000 GO DO YOU HEAR\\n',\n",
              " '84-121123-0001 BUT IN LESS THAN FIVE MINUTES THE STAIRCASE GROANED BENEATH AN EXTRAORDINARY WEIGHT\\n',\n",
              " '84-121123-0002 AT THIS MOMENT THE WHOLE SOUL OF THE OLD MAN SEEMED CENTRED IN HIS EYES WHICH BECAME BLOODSHOT THE VEINS OF THE THROAT SWELLED HIS CHEEKS AND TEMPLES BECAME PURPLE AS THOUGH HE WAS STRUCK WITH EPILEPSY NOTHING WAS WANTING TO COMPLETE THIS BUT THE UTTERANCE OF A CRY\\n',\n",
              " '84-121123-0003 AND THE CRY ISSUED FROM HIS PORES IF WE MAY THUS SPEAK A CRY FRIGHTFUL IN ITS SILENCE\\n',\n",
              " \"84-121123-0004 D'AVRIGNY RUSHED TOWARDS THE OLD MAN AND MADE HIM INHALE A POWERFUL RESTORATIVE\\n\",\n",
              " \"84-121123-0005 D'AVRIGNY UNABLE TO BEAR THE SIGHT OF THIS TOUCHING EMOTION TURNED AWAY AND VILLEFORT WITHOUT SEEKING ANY FURTHER EXPLANATION AND ATTRACTED TOWARDS HIM BY THE IRRESISTIBLE MAGNETISM WHICH DRAWS US TOWARDS THOSE WHO HAVE LOVED THE PEOPLE FOR WHOM WE MOURN EXTENDED HIS HAND TOWARDS THE YOUNG MAN\\n\",\n",
              " '84-121123-0006 FOR SOME TIME NOTHING WAS HEARD IN THAT CHAMBER BUT SOBS EXCLAMATIONS AND PRAYERS\\n',\n",
              " '84-121123-0007 WHAT DO YOU MEAN SIR\\n',\n",
              " '84-121123-0008 OH YOU RAVE SIR EXCLAIMED VILLEFORT IN VAIN ENDEAVORING TO ESCAPE THE NET IN WHICH HE WAS TAKEN I RAVE\\n',\n",
              " '84-121123-0009 DO YOU KNOW THE ASSASSIN ASKED MORREL\\n',\n",
              " '84-121123-0010 NOIRTIER LOOKED UPON MORREL WITH ONE OF THOSE MELANCHOLY SMILES WHICH HAD SO OFTEN MADE VALENTINE HAPPY AND THUS FIXED HIS ATTENTION\\n',\n",
              " '84-121123-0011 SAID MORREL SADLY YES REPLIED NOIRTIER\\n',\n",
              " \"84-121123-0012 THE OLD MAN'S EYES REMAINED FIXED ON THE DOOR\\n\",\n",
              " '84-121123-0013 ASKED MORREL YES\\n',\n",
              " '84-121123-0014 MUST I LEAVE ALONE NO\\n',\n",
              " '84-121123-0015 BUT CAN HE UNDERSTAND YOU YES\\n',\n",
              " '84-121123-0016 GENTLEMEN HE SAID IN A HOARSE VOICE GIVE ME YOUR WORD OF HONOR THAT THIS HORRIBLE SECRET SHALL FOREVER REMAIN BURIED AMONGST OURSELVES THE TWO MEN DREW BACK\\n',\n",
              " \"84-121123-0017 MY FATHER HAS REVEALED THE CULPRIT'S NAME MY FATHER THIRSTS FOR REVENGE AS MUCH AS YOU DO YET EVEN HE CONJURES YOU AS I DO TO KEEP THIS SECRET DO YOU NOT FATHER\\n\",\n",
              " '84-121123-0018 MORREL SUFFERED AN EXCLAMATION OF HORROR AND SURPRISE TO ESCAPE HIM\\n',\n",
              " '84-121123-0019 THE OLD MAN MADE A SIGN IN THE AFFIRMATIVE\\n',\n",
              " '84-121123-0020 IT WAS SOMETHING TERRIBLE TO WITNESS THE SILENT AGONY THE MUTE DESPAIR OF NOIRTIER WHOSE TEARS SILENTLY ROLLED DOWN HIS CHEEKS\\n',\n",
              " '84-121123-0021 BUT HE STOPPED ON THE LANDING HE HAD NOT THE COURAGE TO AGAIN VISIT THE DEATH CHAMBER\\n',\n",
              " '84-121123-0022 THE TWO DOCTORS THEREFORE ENTERED THE ROOM ALONE\\n',\n",
              " '84-121123-0023 NOIRTIER WAS NEAR THE BED PALE MOTIONLESS AND SILENT AS THE CORPSE\\n',\n",
              " '84-121123-0024 THE DISTRICT DOCTOR APPROACHED WITH THE INDIFFERENCE OF A MAN ACCUSTOMED TO SPEND HALF HIS TIME AMONGST THE DEAD HE THEN LIFTED THE SHEET WHICH WAS PLACED OVER THE FACE AND JUST UNCLOSED THE LIPS\\n',\n",
              " '84-121123-0025 THE NEAREST SAID THE DISTRICT DOCTOR IS A GOOD ITALIAN ABBE WHO LIVES NEXT DOOR TO YOU SHALL I CALL ON HIM AS I PASS\\n',\n",
              " \"84-121123-0026 D'AVRIGNY SAID VILLEFORT BE SO KIND I BESEECH YOU AS TO ACCOMPANY THIS GENTLEMAN HERE IS THE KEY OF THE DOOR SO THAT YOU CAN GO IN AND OUT AS YOU PLEASE YOU WILL BRING THE PRIEST WITH YOU AND WILL OBLIGE ME BY INTRODUCING HIM INTO MY CHILD'S ROOM DO YOU WISH TO SEE HIM\\n\",\n",
              " '84-121123-0027 I ONLY WISH TO BE ALONE YOU WILL EXCUSE ME WILL YOU NOT\\n',\n",
              " '84-121123-0028 I AM GOING SIR AND I DO NOT HESITATE TO SAY THAT NO PRAYERS WILL BE MORE FERVENT THAN MINE\\n']"
            ]
          },
          "metadata": {
            "tags": []
          },
          "execution_count": 60
        }
      ]
    },
    {
      "cell_type": "code",
      "metadata": {
        "id": "4gNxkyCTBGDF"
      },
      "source": [
        "# Data cleaning and removal of unncessary content ie. the file name and the next line symbol\n",
        "arr=[]\n",
        "names=[]\n",
        "for i in lines:\n",
        "    yet=i\n",
        "    a,b = yet.split(' ', 1)\n",
        "    a=a+\".flac\"\n",
        "    arr.append(a)\n",
        "    e,f = b.split('\\n', 1)\n",
        "    names.append(e)\n",
        "    \n",
        "    "
      ],
      "execution_count": null,
      "outputs": []
    },
    {
      "cell_type": "code",
      "metadata": {
        "colab": {
          "base_uri": "https://localhost:8080/"
        },
        "id": "vfmDjwNaBHaD",
        "outputId": "a421bd67-44c7-4559-e8ed-ce6dd4cef350"
      },
      "source": [
        "# printing the List containing the text given in the files\n",
        "names"
      ],
      "execution_count": 75,
      "outputs": [
        {
          "output_type": "execute_result",
          "data": {
            "text/plain": [
              "['GO DO YOU HEAR',\n",
              " 'BUT IN LESS THAN FIVE MINUTES THE STAIRCASE GROANED BENEATH AN EXTRAORDINARY WEIGHT',\n",
              " 'AT THIS MOMENT THE WHOLE SOUL OF THE OLD MAN SEEMED CENTRED IN HIS EYES WHICH BECAME BLOODSHOT THE VEINS OF THE THROAT SWELLED HIS CHEEKS AND TEMPLES BECAME PURPLE AS THOUGH HE WAS STRUCK WITH EPILEPSY NOTHING WAS WANTING TO COMPLETE THIS BUT THE UTTERANCE OF A CRY',\n",
              " 'AND THE CRY ISSUED FROM HIS PORES IF WE MAY THUS SPEAK A CRY FRIGHTFUL IN ITS SILENCE',\n",
              " \"D'AVRIGNY RUSHED TOWARDS THE OLD MAN AND MADE HIM INHALE A POWERFUL RESTORATIVE\",\n",
              " \"D'AVRIGNY UNABLE TO BEAR THE SIGHT OF THIS TOUCHING EMOTION TURNED AWAY AND VILLEFORT WITHOUT SEEKING ANY FURTHER EXPLANATION AND ATTRACTED TOWARDS HIM BY THE IRRESISTIBLE MAGNETISM WHICH DRAWS US TOWARDS THOSE WHO HAVE LOVED THE PEOPLE FOR WHOM WE MOURN EXTENDED HIS HAND TOWARDS THE YOUNG MAN\",\n",
              " 'FOR SOME TIME NOTHING WAS HEARD IN THAT CHAMBER BUT SOBS EXCLAMATIONS AND PRAYERS',\n",
              " 'WHAT DO YOU MEAN SIR',\n",
              " 'OH YOU RAVE SIR EXCLAIMED VILLEFORT IN VAIN ENDEAVORING TO ESCAPE THE NET IN WHICH HE WAS TAKEN I RAVE',\n",
              " 'DO YOU KNOW THE ASSASSIN ASKED MORREL',\n",
              " 'NOIRTIER LOOKED UPON MORREL WITH ONE OF THOSE MELANCHOLY SMILES WHICH HAD SO OFTEN MADE VALENTINE HAPPY AND THUS FIXED HIS ATTENTION',\n",
              " 'SAID MORREL SADLY YES REPLIED NOIRTIER',\n",
              " \"THE OLD MAN'S EYES REMAINED FIXED ON THE DOOR\",\n",
              " 'ASKED MORREL YES',\n",
              " 'MUST I LEAVE ALONE NO',\n",
              " 'BUT CAN HE UNDERSTAND YOU YES',\n",
              " 'GENTLEMEN HE SAID IN A HOARSE VOICE GIVE ME YOUR WORD OF HONOR THAT THIS HORRIBLE SECRET SHALL FOREVER REMAIN BURIED AMONGST OURSELVES THE TWO MEN DREW BACK',\n",
              " \"MY FATHER HAS REVEALED THE CULPRIT'S NAME MY FATHER THIRSTS FOR REVENGE AS MUCH AS YOU DO YET EVEN HE CONJURES YOU AS I DO TO KEEP THIS SECRET DO YOU NOT FATHER\",\n",
              " 'MORREL SUFFERED AN EXCLAMATION OF HORROR AND SURPRISE TO ESCAPE HIM',\n",
              " 'THE OLD MAN MADE A SIGN IN THE AFFIRMATIVE',\n",
              " 'IT WAS SOMETHING TERRIBLE TO WITNESS THE SILENT AGONY THE MUTE DESPAIR OF NOIRTIER WHOSE TEARS SILENTLY ROLLED DOWN HIS CHEEKS',\n",
              " 'BUT HE STOPPED ON THE LANDING HE HAD NOT THE COURAGE TO AGAIN VISIT THE DEATH CHAMBER',\n",
              " 'THE TWO DOCTORS THEREFORE ENTERED THE ROOM ALONE',\n",
              " 'NOIRTIER WAS NEAR THE BED PALE MOTIONLESS AND SILENT AS THE CORPSE',\n",
              " 'THE DISTRICT DOCTOR APPROACHED WITH THE INDIFFERENCE OF A MAN ACCUSTOMED TO SPEND HALF HIS TIME AMONGST THE DEAD HE THEN LIFTED THE SHEET WHICH WAS PLACED OVER THE FACE AND JUST UNCLOSED THE LIPS',\n",
              " 'THE NEAREST SAID THE DISTRICT DOCTOR IS A GOOD ITALIAN ABBE WHO LIVES NEXT DOOR TO YOU SHALL I CALL ON HIM AS I PASS',\n",
              " \"D'AVRIGNY SAID VILLEFORT BE SO KIND I BESEECH YOU AS TO ACCOMPANY THIS GENTLEMAN HERE IS THE KEY OF THE DOOR SO THAT YOU CAN GO IN AND OUT AS YOU PLEASE YOU WILL BRING THE PRIEST WITH YOU AND WILL OBLIGE ME BY INTRODUCING HIM INTO MY CHILD'S ROOM DO YOU WISH TO SEE HIM\",\n",
              " 'I ONLY WISH TO BE ALONE YOU WILL EXCUSE ME WILL YOU NOT',\n",
              " 'I AM GOING SIR AND I DO NOT HESITATE TO SAY THAT NO PRAYERS WILL BE MORE FERVENT THAN MINE']"
            ]
          },
          "metadata": {
            "tags": []
          },
          "execution_count": 75
        }
      ]
    },
    {
      "cell_type": "code",
      "metadata": {
        "colab": {
          "base_uri": "https://localhost:8080/"
        },
        "id": "hTQ35jBBBHbz",
        "outputId": "7b70a0a9-b30f-4236-e97a-1179c2cc3b89"
      },
      "source": [
        "# printing the audio files list present in the folder\n",
        "arr"
      ],
      "execution_count": null,
      "outputs": [
        {
          "output_type": "execute_result",
          "data": {
            "text/plain": [
              "['84-121123-0000.flac',\n",
              " '84-121123-0001.flac',\n",
              " '84-121123-0002.flac',\n",
              " '84-121123-0003.flac',\n",
              " '84-121123-0004.flac',\n",
              " '84-121123-0005.flac',\n",
              " '84-121123-0006.flac',\n",
              " '84-121123-0007.flac',\n",
              " '84-121123-0008.flac',\n",
              " '84-121123-0009.flac',\n",
              " '84-121123-0010.flac',\n",
              " '84-121123-0011.flac',\n",
              " '84-121123-0012.flac',\n",
              " '84-121123-0013.flac',\n",
              " '84-121123-0014.flac',\n",
              " '84-121123-0015.flac',\n",
              " '84-121123-0016.flac',\n",
              " '84-121123-0017.flac',\n",
              " '84-121123-0018.flac',\n",
              " '84-121123-0019.flac',\n",
              " '84-121123-0020.flac',\n",
              " '84-121123-0021.flac',\n",
              " '84-121123-0022.flac',\n",
              " '84-121123-0023.flac',\n",
              " '84-121123-0024.flac',\n",
              " '84-121123-0025.flac',\n",
              " '84-121123-0026.flac',\n",
              " '84-121123-0027.flac',\n",
              " '84-121123-0028.flac']"
            ]
          },
          "metadata": {
            "tags": []
          },
          "execution_count": 63
        }
      ]
    },
    {
      "cell_type": "code",
      "metadata": {
        "id": "jdr48O43BHez"
      },
      "source": [
        "# Applying the speech recognisation Module and accordingly extracting the words detected in the audio file\n",
        "media=[]\n",
        "for y in arr:\n",
        "    w=\"/content/drive/MyDrive/samui sir/84/121123/\"+y\n",
        "    a=sr.AudioFile(w)\n",
        "    with a as source :\n",
        "        audio=r.record(source)\n",
        "\n",
        "    text=r.recognize_google(audio)\n",
        "    media.append(text)\n",
        "    "
      ],
      "execution_count": null,
      "outputs": []
    },
    {
      "cell_type": "code",
      "metadata": {
        "colab": {
          "base_uri": "https://localhost:8080/"
        },
        "id": "KjUyZOx6BHgn",
        "outputId": "3bdc8f31-d30f-4d72-9b07-d3efdc4c96b2"
      },
      "source": [
        "# printing the List containing the text generated using Audio Files\n",
        "media"
      ],
      "execution_count": null,
      "outputs": [
        {
          "output_type": "execute_result",
          "data": {
            "text/plain": [
              "['go do you hear',\n",
              " 'but in less than 5 minutes the staircase ground beneath an extraordinary weight',\n",
              " 'at this moment the whole soul of the old man seems centered in his eyes which became bloodshot the veins of the throat swelled his cheeks and temples became purple as though he was struck with epilepsy nothing was wanting to complete this but the utterance of a cry',\n",
              " 'and the cry issued from his pores if we met the speak a cry frightful and its silence',\n",
              " 'deveny rushed towards the old man and made him inhale powerful restorative',\n",
              " 'deveny unable to Bear the sight of this touching emotion turned away and feel afford without seeking any further explanation and attracted towards him by the irresistible magnetism which draws us towards those who have loved the people for whom we mourn extended his hand towards the young man',\n",
              " 'for some time nothing was heard in that chamber but sobs exclamations and prayers',\n",
              " 'what do you mean sir',\n",
              " 'OU racer exclaimed villefort in vain endeavoring to escape the net in which he was taken Irey',\n",
              " 'do you know the Assassin s morel',\n",
              " 'military looked upon morale with one of those Melancholy Smiles which had so often made Valentine happy and this fixed his attention',\n",
              " 'several sadly yes replied naughty',\n",
              " \"the old man's eyes remain fixed on the door\",\n",
              " \"I swear I'll yes\",\n",
              " 'must I leave alone no',\n",
              " 'but can he understand you yes',\n",
              " 'gentleman he said in a hoarse voice give me your word of Honor that this horrible secret shall forever remain buried amongst ourselves the two men Drew back',\n",
              " 'my father has revealed the culprits name my father thirst for Revenge as much as you do get even he conjures you as I do to keep the secret do not father',\n",
              " 'Laurel suffered an exclamation of horror and surprise to escape him',\n",
              " 'the old man made a sign in the affirmative',\n",
              " 'it was something terrible to witness the silent Agony the mute despair of RTI whose tears silently roll down his cheeks',\n",
              " 'but he stopped in the landing he had not the courage to again visit the death chamber',\n",
              " 'the two doctors therefore enter the room alone',\n",
              " 'naughty I was near the bed pale motionless and Silent as the courts',\n",
              " \"the district's doctor approach with the indifference of a man accustomed to spend half his time among the dead he then lifted the sheet which was placed over the face and just unclosed the lips\",\n",
              " 'the nearest said the district doctor is a good Italian Ave who lives next door to you should I call on him at the pass',\n",
              " \"Stephanie said villefort be so kind of ac-2s accompany this gentleman here is the key of the door so that you can go in and out as you please you will bring the priest with you and will oblige Me by introducing him into my child's room do you wish to see him\",\n",
              " \"I only wish to be alone you will Excuse me while you're not\",\n",
              " \"I'm going sir I do not hesitate to say that no prayers will be more fervently than mine\"]"
            ]
          },
          "metadata": {
            "tags": []
          },
          "execution_count": 65
        }
      ]
    },
    {
      "cell_type": "code",
      "metadata": {
        "colab": {
          "base_uri": "https://localhost:8080/"
        },
        "id": "Us_Pku81Bl0U",
        "outputId": "581ff77d-d643-4192-b570-0f419c68d8b9"
      },
      "source": [
        "# installing the module Jiwer for calculation of WER\n",
        "!pip install jiwer"
      ],
      "execution_count": null,
      "outputs": [
        {
          "output_type": "stream",
          "text": [
            "Requirement already satisfied: jiwer in /usr/local/lib/python3.7/dist-packages (2.2.0)\n",
            "Requirement already satisfied: numpy in /usr/local/lib/python3.7/dist-packages (from jiwer) (1.19.5)\n",
            "Requirement already satisfied: python-Levenshtein in /usr/local/lib/python3.7/dist-packages (from jiwer) (0.12.2)\n",
            "Requirement already satisfied: setuptools in /usr/local/lib/python3.7/dist-packages (from python-Levenshtein->jiwer) (57.2.0)\n"
          ],
          "name": "stdout"
        }
      ]
    },
    {
      "cell_type": "code",
      "metadata": {
        "id": "umJbavkbBHjv"
      },
      "source": [
        "import jiwer\n",
        "lst = [x.lower() for x in names]"
      ],
      "execution_count": null,
      "outputs": []
    },
    {
      "cell_type": "code",
      "metadata": {
        "id": "GBN2YkPrBHlp"
      },
      "source": [
        "# Calculation of WER from the generated text and given Text files\n",
        "from jiwer import wer\n",
        "error=[]\n",
        "import itertools\n",
        "for (a, b) in zip(lst, media):\n",
        "    error1 = wer(a, b)\n",
        "    error.append(error1)"
      ],
      "execution_count": null,
      "outputs": []
    },
    {
      "cell_type": "code",
      "metadata": {
        "colab": {
          "base_uri": "https://localhost:8080/"
        },
        "id": "PoSiwGYxBs4L",
        "outputId": "73829649-8f6a-4c67-d8d5-a0dba6e7d3ff"
      },
      "source": [
        "error"
      ],
      "execution_count": null,
      "outputs": [
        {
          "output_type": "execute_result",
          "data": {
            "text/plain": [
              "[0.0,\n",
              " 0.15384615384615385,\n",
              " 0.04081632653061224,\n",
              " 0.16666666666666666,\n",
              " 0.15384615384615385,\n",
              " 0.08333333333333333,\n",
              " 0.0,\n",
              " 0.0,\n",
              " 0.3,\n",
              " 0.42857142857142855,\n",
              " 0.2727272727272727,\n",
              " 0.5,\n",
              " 0.1111111111111111,\n",
              " 1.0,\n",
              " 0.2,\n",
              " 0.0,\n",
              " 0.10714285714285714,\n",
              " 0.21212121212121213,\n",
              " 0.09090909090909091,\n",
              " 0.0,\n",
              " 0.14285714285714285,\n",
              " 0.058823529411764705,\n",
              " 0.125,\n",
              " 0.3333333333333333,\n",
              " 0.08571428571428572,\n",
              " 0.24,\n",
              " 0.125,\n",
              " 0.3076923076923077,\n",
              " 0.25]"
            ]
          },
          "metadata": {
            "tags": []
          },
          "execution_count": 69
        }
      ]
    },
    {
      "cell_type": "code",
      "metadata": {
        "id": "z118Yx250rKW"
      },
      "source": [
        "import pandas as pd\n",
        "column_names = [\"Audio File Name\", \"Word\", \"Txt file Name\"]\n",
        "df = pd.DataFrame(columns = column_names)"
      ],
      "execution_count": null,
      "outputs": []
    },
    {
      "cell_type": "code",
      "metadata": {
        "id": "u-x-dlvXCvmd",
        "colab": {
          "base_uri": "https://localhost:8080/"
        },
        "outputId": "1ae5b57e-7913-498e-cec7-226886c1f11b"
      },
      "source": [
        "# Checking of WER ==0 and accordingly making the corresponding word file and audio file per word\n",
        "words=[]\n",
        "from gtts import gTTS\n",
        "import pandas as pd\n",
        "for (a, b,c) in zip(error, media,arr):\n",
        "  i=0\n",
        "  if a == 0.0:\n",
        "    for w in b.split():\n",
        "      df = df.append({'Audio File Name' : c, 'Word' : w, 'Txt file Name' : \"/content/drive/MyDrive/samui sir/Words/\"+c+\"_\"+str(i)+\"myfile.txt\"},ignore_index = True)\n",
        "      f = open(\"/content/drive/MyDrive/samui sir/Words/\"+c+\"_\"+str(i)+\"_\"+w+\"_\", \"x\")\n",
        "      f.write(w)\n",
        "      tts = gTTS(w)\n",
        "      tts.save(\"/content/drive/MyDrive/samui sir/Audio/\"+c+\"_\"+str(i)+\"_\"+w+\".mp3\") \n",
        "      print(w+\" \"+c+\" \"+str(i))\n",
        "      words.append(w)\n",
        "      i=i+1"
      ],
      "execution_count": null,
      "outputs": [
        {
          "output_type": "stream",
          "text": [
            "go 84-121123-0000.flac 0\n",
            "do 84-121123-0000.flac 1\n",
            "you 84-121123-0000.flac 2\n",
            "hear 84-121123-0000.flac 3\n",
            "for 84-121123-0006.flac 0\n",
            "some 84-121123-0006.flac 1\n",
            "time 84-121123-0006.flac 2\n",
            "nothing 84-121123-0006.flac 3\n",
            "was 84-121123-0006.flac 4\n",
            "heard 84-121123-0006.flac 5\n",
            "in 84-121123-0006.flac 6\n",
            "that 84-121123-0006.flac 7\n",
            "chamber 84-121123-0006.flac 8\n",
            "but 84-121123-0006.flac 9\n",
            "sobs 84-121123-0006.flac 10\n",
            "exclamations 84-121123-0006.flac 11\n",
            "and 84-121123-0006.flac 12\n",
            "prayers 84-121123-0006.flac 13\n",
            "what 84-121123-0007.flac 0\n",
            "do 84-121123-0007.flac 1\n",
            "you 84-121123-0007.flac 2\n",
            "mean 84-121123-0007.flac 3\n",
            "sir 84-121123-0007.flac 4\n",
            "but 84-121123-0015.flac 0\n",
            "can 84-121123-0015.flac 1\n",
            "he 84-121123-0015.flac 2\n",
            "understand 84-121123-0015.flac 3\n",
            "you 84-121123-0015.flac 4\n",
            "yes 84-121123-0015.flac 5\n",
            "the 84-121123-0019.flac 0\n",
            "old 84-121123-0019.flac 1\n",
            "man 84-121123-0019.flac 2\n",
            "made 84-121123-0019.flac 3\n",
            "a 84-121123-0019.flac 4\n",
            "sign 84-121123-0019.flac 5\n",
            "in 84-121123-0019.flac 6\n",
            "the 84-121123-0019.flac 7\n",
            "affirmative 84-121123-0019.flac 8\n"
          ],
          "name": "stdout"
        }
      ]
    },
    {
      "cell_type": "code",
      "metadata": {
        "colab": {
          "base_uri": "https://localhost:8080/"
        },
        "id": "AcT0k18Ix_sI",
        "outputId": "e45d2a05-a686-40b2-872e-38abfc4c0590"
      },
      "source": [
        "df"
      ],
      "execution_count": null,
      "outputs": [
        {
          "output_type": "execute_result",
          "data": {
            "text/html": [
              "<div>\n",
              "<style scoped>\n",
              "    .dataframe tbody tr th:only-of-type {\n",
              "        vertical-align: middle;\n",
              "    }\n",
              "\n",
              "    .dataframe tbody tr th {\n",
              "        vertical-align: top;\n",
              "    }\n",
              "\n",
              "    .dataframe thead th {\n",
              "        text-align: right;\n",
              "    }\n",
              "</style>\n",
              "<table border=\"1\" class=\"dataframe\">\n",
              "  <thead>\n",
              "    <tr style=\"text-align: right;\">\n",
              "      <th></th>\n",
              "      <th>Audio File Name</th>\n",
              "      <th>Word</th>\n",
              "      <th>Txt file Name</th>\n",
              "    </tr>\n",
              "  </thead>\n",
              "  <tbody>\n",
              "    <tr>\n",
              "      <th>0</th>\n",
              "      <td>84-121123-0000.flac</td>\n",
              "      <td>go</td>\n",
              "      <td>/content/drive/MyDrive/samui sir/Words/84-1211...</td>\n",
              "    </tr>\n",
              "    <tr>\n",
              "      <th>1</th>\n",
              "      <td>84-121123-0000.flac</td>\n",
              "      <td>do</td>\n",
              "      <td>/content/drive/MyDrive/samui sir/Words/84-1211...</td>\n",
              "    </tr>\n",
              "    <tr>\n",
              "      <th>2</th>\n",
              "      <td>84-121123-0000.flac</td>\n",
              "      <td>you</td>\n",
              "      <td>/content/drive/MyDrive/samui sir/Words/84-1211...</td>\n",
              "    </tr>\n",
              "    <tr>\n",
              "      <th>3</th>\n",
              "      <td>84-121123-0000.flac</td>\n",
              "      <td>hear</td>\n",
              "      <td>/content/drive/MyDrive/samui sir/Words/84-1211...</td>\n",
              "    </tr>\n",
              "    <tr>\n",
              "      <th>4</th>\n",
              "      <td>84-121123-0006.flac</td>\n",
              "      <td>for</td>\n",
              "      <td>/content/drive/MyDrive/samui sir/Words/84-1211...</td>\n",
              "    </tr>\n",
              "    <tr>\n",
              "      <th>5</th>\n",
              "      <td>84-121123-0006.flac</td>\n",
              "      <td>some</td>\n",
              "      <td>/content/drive/MyDrive/samui sir/Words/84-1211...</td>\n",
              "    </tr>\n",
              "    <tr>\n",
              "      <th>6</th>\n",
              "      <td>84-121123-0006.flac</td>\n",
              "      <td>time</td>\n",
              "      <td>/content/drive/MyDrive/samui sir/Words/84-1211...</td>\n",
              "    </tr>\n",
              "    <tr>\n",
              "      <th>7</th>\n",
              "      <td>84-121123-0006.flac</td>\n",
              "      <td>nothing</td>\n",
              "      <td>/content/drive/MyDrive/samui sir/Words/84-1211...</td>\n",
              "    </tr>\n",
              "    <tr>\n",
              "      <th>8</th>\n",
              "      <td>84-121123-0006.flac</td>\n",
              "      <td>was</td>\n",
              "      <td>/content/drive/MyDrive/samui sir/Words/84-1211...</td>\n",
              "    </tr>\n",
              "    <tr>\n",
              "      <th>9</th>\n",
              "      <td>84-121123-0006.flac</td>\n",
              "      <td>heard</td>\n",
              "      <td>/content/drive/MyDrive/samui sir/Words/84-1211...</td>\n",
              "    </tr>\n",
              "    <tr>\n",
              "      <th>10</th>\n",
              "      <td>84-121123-0006.flac</td>\n",
              "      <td>in</td>\n",
              "      <td>/content/drive/MyDrive/samui sir/Words/84-1211...</td>\n",
              "    </tr>\n",
              "    <tr>\n",
              "      <th>11</th>\n",
              "      <td>84-121123-0006.flac</td>\n",
              "      <td>that</td>\n",
              "      <td>/content/drive/MyDrive/samui sir/Words/84-1211...</td>\n",
              "    </tr>\n",
              "    <tr>\n",
              "      <th>12</th>\n",
              "      <td>84-121123-0006.flac</td>\n",
              "      <td>chamber</td>\n",
              "      <td>/content/drive/MyDrive/samui sir/Words/84-1211...</td>\n",
              "    </tr>\n",
              "    <tr>\n",
              "      <th>13</th>\n",
              "      <td>84-121123-0006.flac</td>\n",
              "      <td>but</td>\n",
              "      <td>/content/drive/MyDrive/samui sir/Words/84-1211...</td>\n",
              "    </tr>\n",
              "    <tr>\n",
              "      <th>14</th>\n",
              "      <td>84-121123-0006.flac</td>\n",
              "      <td>sobs</td>\n",
              "      <td>/content/drive/MyDrive/samui sir/Words/84-1211...</td>\n",
              "    </tr>\n",
              "    <tr>\n",
              "      <th>15</th>\n",
              "      <td>84-121123-0006.flac</td>\n",
              "      <td>exclamations</td>\n",
              "      <td>/content/drive/MyDrive/samui sir/Words/84-1211...</td>\n",
              "    </tr>\n",
              "    <tr>\n",
              "      <th>16</th>\n",
              "      <td>84-121123-0006.flac</td>\n",
              "      <td>and</td>\n",
              "      <td>/content/drive/MyDrive/samui sir/Words/84-1211...</td>\n",
              "    </tr>\n",
              "    <tr>\n",
              "      <th>17</th>\n",
              "      <td>84-121123-0006.flac</td>\n",
              "      <td>prayers</td>\n",
              "      <td>/content/drive/MyDrive/samui sir/Words/84-1211...</td>\n",
              "    </tr>\n",
              "    <tr>\n",
              "      <th>18</th>\n",
              "      <td>84-121123-0007.flac</td>\n",
              "      <td>what</td>\n",
              "      <td>/content/drive/MyDrive/samui sir/Words/84-1211...</td>\n",
              "    </tr>\n",
              "    <tr>\n",
              "      <th>19</th>\n",
              "      <td>84-121123-0007.flac</td>\n",
              "      <td>do</td>\n",
              "      <td>/content/drive/MyDrive/samui sir/Words/84-1211...</td>\n",
              "    </tr>\n",
              "    <tr>\n",
              "      <th>20</th>\n",
              "      <td>84-121123-0007.flac</td>\n",
              "      <td>you</td>\n",
              "      <td>/content/drive/MyDrive/samui sir/Words/84-1211...</td>\n",
              "    </tr>\n",
              "    <tr>\n",
              "      <th>21</th>\n",
              "      <td>84-121123-0007.flac</td>\n",
              "      <td>mean</td>\n",
              "      <td>/content/drive/MyDrive/samui sir/Words/84-1211...</td>\n",
              "    </tr>\n",
              "    <tr>\n",
              "      <th>22</th>\n",
              "      <td>84-121123-0007.flac</td>\n",
              "      <td>sir</td>\n",
              "      <td>/content/drive/MyDrive/samui sir/Words/84-1211...</td>\n",
              "    </tr>\n",
              "    <tr>\n",
              "      <th>23</th>\n",
              "      <td>84-121123-0015.flac</td>\n",
              "      <td>but</td>\n",
              "      <td>/content/drive/MyDrive/samui sir/Words/84-1211...</td>\n",
              "    </tr>\n",
              "    <tr>\n",
              "      <th>24</th>\n",
              "      <td>84-121123-0015.flac</td>\n",
              "      <td>can</td>\n",
              "      <td>/content/drive/MyDrive/samui sir/Words/84-1211...</td>\n",
              "    </tr>\n",
              "    <tr>\n",
              "      <th>25</th>\n",
              "      <td>84-121123-0015.flac</td>\n",
              "      <td>he</td>\n",
              "      <td>/content/drive/MyDrive/samui sir/Words/84-1211...</td>\n",
              "    </tr>\n",
              "    <tr>\n",
              "      <th>26</th>\n",
              "      <td>84-121123-0015.flac</td>\n",
              "      <td>understand</td>\n",
              "      <td>/content/drive/MyDrive/samui sir/Words/84-1211...</td>\n",
              "    </tr>\n",
              "    <tr>\n",
              "      <th>27</th>\n",
              "      <td>84-121123-0015.flac</td>\n",
              "      <td>you</td>\n",
              "      <td>/content/drive/MyDrive/samui sir/Words/84-1211...</td>\n",
              "    </tr>\n",
              "    <tr>\n",
              "      <th>28</th>\n",
              "      <td>84-121123-0015.flac</td>\n",
              "      <td>yes</td>\n",
              "      <td>/content/drive/MyDrive/samui sir/Words/84-1211...</td>\n",
              "    </tr>\n",
              "    <tr>\n",
              "      <th>29</th>\n",
              "      <td>84-121123-0019.flac</td>\n",
              "      <td>the</td>\n",
              "      <td>/content/drive/MyDrive/samui sir/Words/84-1211...</td>\n",
              "    </tr>\n",
              "    <tr>\n",
              "      <th>30</th>\n",
              "      <td>84-121123-0019.flac</td>\n",
              "      <td>old</td>\n",
              "      <td>/content/drive/MyDrive/samui sir/Words/84-1211...</td>\n",
              "    </tr>\n",
              "    <tr>\n",
              "      <th>31</th>\n",
              "      <td>84-121123-0019.flac</td>\n",
              "      <td>man</td>\n",
              "      <td>/content/drive/MyDrive/samui sir/Words/84-1211...</td>\n",
              "    </tr>\n",
              "    <tr>\n",
              "      <th>32</th>\n",
              "      <td>84-121123-0019.flac</td>\n",
              "      <td>made</td>\n",
              "      <td>/content/drive/MyDrive/samui sir/Words/84-1211...</td>\n",
              "    </tr>\n",
              "    <tr>\n",
              "      <th>33</th>\n",
              "      <td>84-121123-0019.flac</td>\n",
              "      <td>a</td>\n",
              "      <td>/content/drive/MyDrive/samui sir/Words/84-1211...</td>\n",
              "    </tr>\n",
              "    <tr>\n",
              "      <th>34</th>\n",
              "      <td>84-121123-0019.flac</td>\n",
              "      <td>sign</td>\n",
              "      <td>/content/drive/MyDrive/samui sir/Words/84-1211...</td>\n",
              "    </tr>\n",
              "    <tr>\n",
              "      <th>35</th>\n",
              "      <td>84-121123-0019.flac</td>\n",
              "      <td>in</td>\n",
              "      <td>/content/drive/MyDrive/samui sir/Words/84-1211...</td>\n",
              "    </tr>\n",
              "    <tr>\n",
              "      <th>36</th>\n",
              "      <td>84-121123-0019.flac</td>\n",
              "      <td>the</td>\n",
              "      <td>/content/drive/MyDrive/samui sir/Words/84-1211...</td>\n",
              "    </tr>\n",
              "    <tr>\n",
              "      <th>37</th>\n",
              "      <td>84-121123-0019.flac</td>\n",
              "      <td>affirmative</td>\n",
              "      <td>/content/drive/MyDrive/samui sir/Words/84-1211...</td>\n",
              "    </tr>\n",
              "  </tbody>\n",
              "</table>\n",
              "</div>"
            ],
            "text/plain": [
              "        Audio File Name  ...                                      Txt file Name\n",
              "0   84-121123-0000.flac  ...  /content/drive/MyDrive/samui sir/Words/84-1211...\n",
              "1   84-121123-0000.flac  ...  /content/drive/MyDrive/samui sir/Words/84-1211...\n",
              "2   84-121123-0000.flac  ...  /content/drive/MyDrive/samui sir/Words/84-1211...\n",
              "3   84-121123-0000.flac  ...  /content/drive/MyDrive/samui sir/Words/84-1211...\n",
              "4   84-121123-0006.flac  ...  /content/drive/MyDrive/samui sir/Words/84-1211...\n",
              "5   84-121123-0006.flac  ...  /content/drive/MyDrive/samui sir/Words/84-1211...\n",
              "6   84-121123-0006.flac  ...  /content/drive/MyDrive/samui sir/Words/84-1211...\n",
              "7   84-121123-0006.flac  ...  /content/drive/MyDrive/samui sir/Words/84-1211...\n",
              "8   84-121123-0006.flac  ...  /content/drive/MyDrive/samui sir/Words/84-1211...\n",
              "9   84-121123-0006.flac  ...  /content/drive/MyDrive/samui sir/Words/84-1211...\n",
              "10  84-121123-0006.flac  ...  /content/drive/MyDrive/samui sir/Words/84-1211...\n",
              "11  84-121123-0006.flac  ...  /content/drive/MyDrive/samui sir/Words/84-1211...\n",
              "12  84-121123-0006.flac  ...  /content/drive/MyDrive/samui sir/Words/84-1211...\n",
              "13  84-121123-0006.flac  ...  /content/drive/MyDrive/samui sir/Words/84-1211...\n",
              "14  84-121123-0006.flac  ...  /content/drive/MyDrive/samui sir/Words/84-1211...\n",
              "15  84-121123-0006.flac  ...  /content/drive/MyDrive/samui sir/Words/84-1211...\n",
              "16  84-121123-0006.flac  ...  /content/drive/MyDrive/samui sir/Words/84-1211...\n",
              "17  84-121123-0006.flac  ...  /content/drive/MyDrive/samui sir/Words/84-1211...\n",
              "18  84-121123-0007.flac  ...  /content/drive/MyDrive/samui sir/Words/84-1211...\n",
              "19  84-121123-0007.flac  ...  /content/drive/MyDrive/samui sir/Words/84-1211...\n",
              "20  84-121123-0007.flac  ...  /content/drive/MyDrive/samui sir/Words/84-1211...\n",
              "21  84-121123-0007.flac  ...  /content/drive/MyDrive/samui sir/Words/84-1211...\n",
              "22  84-121123-0007.flac  ...  /content/drive/MyDrive/samui sir/Words/84-1211...\n",
              "23  84-121123-0015.flac  ...  /content/drive/MyDrive/samui sir/Words/84-1211...\n",
              "24  84-121123-0015.flac  ...  /content/drive/MyDrive/samui sir/Words/84-1211...\n",
              "25  84-121123-0015.flac  ...  /content/drive/MyDrive/samui sir/Words/84-1211...\n",
              "26  84-121123-0015.flac  ...  /content/drive/MyDrive/samui sir/Words/84-1211...\n",
              "27  84-121123-0015.flac  ...  /content/drive/MyDrive/samui sir/Words/84-1211...\n",
              "28  84-121123-0015.flac  ...  /content/drive/MyDrive/samui sir/Words/84-1211...\n",
              "29  84-121123-0019.flac  ...  /content/drive/MyDrive/samui sir/Words/84-1211...\n",
              "30  84-121123-0019.flac  ...  /content/drive/MyDrive/samui sir/Words/84-1211...\n",
              "31  84-121123-0019.flac  ...  /content/drive/MyDrive/samui sir/Words/84-1211...\n",
              "32  84-121123-0019.flac  ...  /content/drive/MyDrive/samui sir/Words/84-1211...\n",
              "33  84-121123-0019.flac  ...  /content/drive/MyDrive/samui sir/Words/84-1211...\n",
              "34  84-121123-0019.flac  ...  /content/drive/MyDrive/samui sir/Words/84-1211...\n",
              "35  84-121123-0019.flac  ...  /content/drive/MyDrive/samui sir/Words/84-1211...\n",
              "36  84-121123-0019.flac  ...  /content/drive/MyDrive/samui sir/Words/84-1211...\n",
              "37  84-121123-0019.flac  ...  /content/drive/MyDrive/samui sir/Words/84-1211...\n",
              "\n",
              "[38 rows x 3 columns]"
            ]
          },
          "metadata": {
            "tags": []
          },
          "execution_count": 72
        }
      ]
    },
    {
      "cell_type": "code",
      "metadata": {
        "id": "7my_1yX63TPh"
      },
      "source": [
        "df1 = pd.DataFrame(df)\n",
        "  \n",
        "# saving the dataframe\n",
        "df1.to_csv('/content/drive/MyDrive/samui sir/details.csv')"
      ],
      "execution_count": null,
      "outputs": []
    }
  ]
}